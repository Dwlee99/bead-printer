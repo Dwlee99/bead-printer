{
 "cells": [
  {
   "cell_type": "code",
   "execution_count": 31,
   "metadata": {},
   "outputs": [],
   "source": [
    "from PIL import Image, ImageFilter\n",
    "\n",
    "import numpy as np\n",
    "\n",
    "im = Image.open('Yugra.png').convert('RGB')\n",
    "\n",
    "im.show()"
   ]
  },
  {
   "cell_type": "code",
   "execution_count": 15,
   "metadata": {},
   "outputs": [
    {
     "name": "stdout",
     "output_type": "stream",
     "text": [
      "(222, 350, 3)\n"
     ]
    }
   ],
   "source": [
    "values = np.array(im)\n",
    "print(values.shape)"
   ]
  },
  {
   "cell_type": "code",
   "execution_count": 24,
   "metadata": {},
   "outputs": [],
   "source": [
    "palette = np.array([[0, 0, 0],\n",
    "                    [255, 255, 255]\n",
    "                    ])\n",
    "\n",
    "# k = 31\n",
    "# lin = np.linspace(0, k**3 - 1, num=k**3)\n",
    "\n",
    "# def color(x):\n",
    "#     ones = x % k\n",
    "#     tens = (x // k) % k\n",
    "#     hundreds = ((x / k) // k)\n",
    "    \n",
    "#     return [0 if ones == 0 else ones * (256//(k - 1)) - 1, 0 if tens == 0 else tens * (256//(k - 1)) - 1, 0 if hundreds == 0 else hundreds * (256//(k - 1)) - 1]\n",
    "\n",
    "# palette = np.array([color(x) for x in lin])"
   ]
  },
  {
   "cell_type": "code",
   "execution_count": 45,
   "metadata": {},
   "outputs": [],
   "source": [
    "def recolor_manhattan(image, palette):\n",
    "    x, y, _ = image.shape\n",
    "    recolored = np.zeros((x, y, 3))\n",
    "    for i in range(x):\n",
    "        for j in range(y):\n",
    "            argcolor = np.sum(np.abs(palette - image[i,j]), axis=1).argmin()\n",
    "            recolored[i,j] = palette[argcolor]\n",
    "    return recolored"
   ]
  },
  {
   "cell_type": "code",
   "execution_count": 27,
   "metadata": {},
   "outputs": [],
   "source": [
    "recolored_manhattan_np = recolor_manhattan(values, palette)\n",
    "\n",
    "recolored_manhattan = Image.fromarray(recolored_manhattan_np.astype(np.uint8))"
   ]
  },
  {
   "cell_type": "code",
   "execution_count": 28,
   "metadata": {},
   "outputs": [],
   "source": [
    "recolored_manhattan.show()"
   ]
  },
  {
   "cell_type": "code",
   "execution_count": 6,
   "metadata": {},
   "outputs": [],
   "source": [
    "def recolor_euclidean(image, palette):\n",
    "    x, y, _ = image.shape\n",
    "    recolored = np.zeros((x, y, 3))\n",
    "    for i in range(x):\n",
    "        for j in range(y):\n",
    "            argcolor = np.sum(np.abs(palette - image[i,j])**2, axis=1).argmin()\n",
    "            recolored[i,j] = palette[argcolor]\n",
    "    return recolored"
   ]
  },
  {
   "cell_type": "code",
   "execution_count": 25,
   "metadata": {},
   "outputs": [],
   "source": [
    "recolored_euclidean_np = recolor_euclidean(values, palette)\n",
    "\n",
    "recolored_euclidean = Image.fromarray(recolored_euclidean_np.astype(np.uint8))"
   ]
  },
  {
   "cell_type": "code",
   "execution_count": 26,
   "metadata": {},
   "outputs": [],
   "source": [
    "recolored_euclidean.show()"
   ]
  },
  {
   "cell_type": "code",
   "execution_count": 11,
   "metadata": {},
   "outputs": [],
   "source": [
    "def convolve(img, filt):\n",
    "    dim = np.ndim(img)\n",
    "    convolved_img = np.zeros(img.shape)\n",
    "    if(np.ndim(filt) == 1):\n",
    "        l = filt.shape[0]\n",
    "        filt = np.vstack(((np.zeros(l)), filt, np.zeros(l)))\n",
    "        k = 3\n",
    "    else:\n",
    "        l, k = filt.shape\n",
    "    hdiff = (l - 1) // 2\n",
    "    vdiff = (k - 1) // 2 \n",
    "    convolution = np.flipud(filt)\n",
    "    convolution = np.fliplr(convolution)    \n",
    "    if dim == 3:\n",
    "        m, n, d = img.shape\n",
    "        paddedimg = np.zeros((m + 2 * hdiff, n + 2 * vdiff))\n",
    "        for i in range(d):\n",
    "            paddedimg[:, :] = np.pad(img[:, :, i], ((hdiff, hdiff), (vdiff, vdiff)),\n",
    "                         mode='constant')\n",
    "            for x in range(m):\n",
    "                for y in range(n):\n",
    "                    subsection = paddedimg[x: x + 2 * hdiff + 1, y: y + 2 * vdiff + 1]\n",
    "                    val = np.sum(subsection * convolution)\n",
    "                    convolved_img[x, y, i] = val\n",
    "    else: \n",
    "        m, n = img.shape\n",
    "        paddedimg = np.zeros((m + 2 * hdiff, n + 2 * vdiff))\n",
    "        paddedimg = np.pad(img, ((hdiff, hdiff), (vdiff, vdiff)),\n",
    "                     mode='constant')\n",
    "        for x in range(m):\n",
    "            for y in range(n):\n",
    "                subsection = paddedimg[x: x + 2 * hdiff + 1, y: y + 2 * vdiff + 1]\n",
    "                val = np.sum(subsection * convolution)\n",
    "                convolved_img[x, y] = val\n",
    "\n",
    "    return convolved_img\n",
    "\n",
    "def gaussian_filter(k, sigma):\n",
    "    arr = np.linspace(-(k - 1) / 2., (k - 1) / 2., k)\n",
    "    gauss = np.exp(-0.5 * np.square(arr / sigma))\n",
    "    filt = np.outer(gauss, gauss)\n",
    "    return filt / np.sum(filt)"
   ]
  },
  {
   "cell_type": "code",
   "execution_count": 29,
   "metadata": {},
   "outputs": [],
   "source": [
    "filt = gaussian_filter(5, 2)\n",
    "filtered = convolve(values, filt)\n",
    "filtered_euclidean = recolor_euclidean(filtered, palette)\n",
    "filtered_img = Image.fromarray(filtered_euclidean.astype(np.uint8))"
   ]
  },
  {
   "cell_type": "code",
   "execution_count": 30,
   "metadata": {},
   "outputs": [],
   "source": [
    "filtered_img.show()"
   ]
  },
  {
   "cell_type": "code",
   "execution_count": null,
   "metadata": {},
   "outputs": [],
   "source": []
  }
 ],
 "metadata": {
  "kernelspec": {
   "display_name": "Python 3",
   "language": "python",
   "name": "python3"
  },
  "language_info": {
   "codemirror_mode": {
    "name": "ipython",
    "version": 3
   },
   "file_extension": ".py",
   "mimetype": "text/x-python",
   "name": "python",
   "nbconvert_exporter": "python",
   "pygments_lexer": "ipython3",
   "version": "3.7.6"
  }
 },
 "nbformat": 4,
 "nbformat_minor": 2
}
